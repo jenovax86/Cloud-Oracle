{
 "cells": [
  {
   "cell_type": "markdown",
   "id": "06fbb87f",
   "metadata": {},
   "source": [
    "# Set up\n"
   ]
  },
  {
   "cell_type": "code",
   "execution_count": null,
   "id": "2e0b70af",
   "metadata": {},
   "outputs": [
    {
     "name": "stdout",
     "output_type": "stream",
     "text": [
      "/mnt/d/jenova-0/Code/Projects/data_science/Cloud-Oracle\n"
     ]
    }
   ],
   "source": [
    "import sqlite3\n",
    "import os\n",
    "import joblib\n",
    "from datetime import datetime\n",
    "from sklearn.linear_model import LinearRegression\n",
    "from sklearn.ensemble import RandomForestRegressor\n",
    "from sklearn.model_selection import RandomizedSearchCV\n",
    "from sklearn.model_selection import train_test_split\n",
    "os.chdir(\"..\")\n",
    "from model.preprocess import preprocess_data\n",
    "from database.db import get_weather_records\n",
    "from utils import date_to_data_frame"
   ]
  },
  {
   "cell_type": "markdown",
   "id": "3ebe0900",
   "metadata": {},
   "source": [
    "# Hyperparameter Tuning for Your Model\n",
    "We will perform **hyperparameter tuning** for our dataset using the following models:\n",
    "\n",
    "- **Linear Regression**\n",
    "- **Random Forest Regressor**"
   ]
  },
  {
   "cell_type": "code",
   "execution_count": 5,
   "id": "4783ff90",
   "metadata": {},
   "outputs": [
    {
     "name": "stdout",
     "output_type": "stream",
     "text": [
      "Linear regression tuning:  (LinearRegression(n_jobs=1), {'positive': False, 'n_jobs': 1, 'fit_intercept': True, 'copy_X': True})\n",
      "Random Forest tuning:  (RandomForestRegressor(bootstrap=False, max_depth=30, min_samples_split=5), {'n_estimators': 100, 'min_samples_split': 5, 'min_samples_leaf': 1, 'max_depth': 30, 'bootstrap': False})\n"
     ]
    }
   ],
   "source": [
    "def model_tuning_for_random_forest_regressor(df):\n",
    "    param_grid = {\n",
    "        \"n_estimators\": [100, 200, 500, 1000],\n",
    "        \"max_depth\": [None, 10, 20, 30],\n",
    "        \"min_samples_split\": [2, 5, 10],\n",
    "        \"min_samples_leaf\": [1, 2, 4],\n",
    "        \"bootstrap\": [True, False],\n",
    "    }\n",
    "    x =df[\n",
    "        [\n",
    "            \"year\",\n",
    "            \"month\",\n",
    "            \"day_of_year\",\n",
    "            \"hour_of_day\"\n",
    "        ]\n",
    "    ]\n",
    "    y = df[[\"low_temperature\", \"high_temperature\"]]\n",
    "    x_train, _, y_train, _ = train_test_split(x, y, test_size=0.2, random_state=42)\n",
    "    model = RandomForestRegressor(max_depth=3, n_estimators=50)\n",
    "    random_search = RandomizedSearchCV(\n",
    "        model, param_grid, cv=5, n_iter=5, n_jobs=1, random_state=42\n",
    "    )\n",
    "    random_search.fit(x_train, y_train)\n",
    "    return random_search.best_estimator_, random_search.best_params_\n",
    "\n",
    "def model_tuning_for_linear_regression(df):\n",
    "    param_space = {\n",
    "        \"copy_X\": [True, False],\n",
    "        \"fit_intercept\": [True, False],\n",
    "        \"n_jobs\": [1, 5, 10, 15, None],\n",
    "        \"positive\": [True, False],\n",
    "    }\n",
    "    x =df[\n",
    "        [\n",
    "            \"year\",\n",
    "            \"month\",\n",
    "            \"day_of_year\",\n",
    "            \"hour_of_day\"\n",
    "        ]\n",
    "    ]\n",
    "    y = df[[\"low_temperature\", \"high_temperature\"]]\n",
    "    x_train, _, y_train, _ = train_test_split(x, y)\n",
    "    model = LinearRegression()\n",
    "    random_search = RandomizedSearchCV(model, param_space, cv=5)\n",
    "    random_search.fit(x_train, y_train)\n",
    "    return random_search.best_estimator_, random_search.best_params_\n",
    "\n",
    "\n",
    "sqlite_connection = sqlite3.connect(\"weather_forecast\")\n",
    "weather_data = get_weather_records(sqlite_connection)\n",
    "df = preprocess_data(weather_data)\n",
    "print(\"Linear regression tuning: \", model_tuning_for_linear_regression(df))\n",
    "print(\"Random Forest tuning: \", model_tuning_for_random_forest_regressor(df))"
   ]
  },
  {
   "cell_type": "markdown",
   "id": "4ca92066",
   "metadata": {},
   "source": [
    "# Linear Regression model prediction\n",
    "### this prediction is based on linear regression model that gives more accurate result."
   ]
  },
  {
   "cell_type": "code",
   "execution_count": 4,
   "id": "567bb600",
   "metadata": {},
   "outputs": [
    {
     "name": "stdout",
     "output_type": "stream",
     "text": [
      "linear regression low temperature: 21, high temperature: 25\n"
     ]
    }
   ],
   "source": [
    "linear_regression_model = joblib.load(\"linear_regression.joblib\")\n",
    "today = date_to_data_frame(datetime.today().strftime(\"%Y-%m-%d %H\"))\n",
    "predict_result_of_linear_regression_model = linear_regression_model.predict(today)\n",
    "print(\n",
    "    f\"linear regression low temperature: {round(predict_result_of_linear_regression_model[0][0])}, high temperature: {round(predict_result_of_linear_regression_model[0][1])}\"\n",
    ")"
   ]
  },
  {
   "cell_type": "markdown",
   "id": "805c3da5",
   "metadata": {},
   "source": [
    "# Random Forest Regressor model prediction\n",
    "### This prediction is generated using a Random Forest Regressor, an ensemble method that aggregates multiple decision trees for stable and reliable forecasts.\n",
    "### While it performs well overall, the predicted temperature values may deviate by approximately ±3°C from the actual measurements.\n",
    "### Compared to the Linear Regression model, it tends to be slightly less precise but more robust against data noise and irregularities."
   ]
  },
  {
   "cell_type": "code",
   "execution_count": 3,
   "id": "4ba8bcdf",
   "metadata": {},
   "outputs": [
    {
     "name": "stdout",
     "output_type": "stream",
     "text": [
      "random forest low temperature: 15, high temperature: 19\n"
     ]
    }
   ],
   "source": [
    "random_forest_regressor_model = joblib.load(\"random_forest_regressor.joblib\")\n",
    "today = date_to_data_frame(datetime.today().strftime(\"%Y-%m-%d %H\"))\n",
    "predict_result_of_random_forest_regressor_model = random_forest_regressor_model.predict(\n",
    "    today\n",
    ")\n",
    "print(\n",
    "    f\"random forest low temperature: {round(predict_result_of_random_forest_regressor_model[0][0])}, high temperature: {round(predict_result_of_random_forest_regressor_model[0][1])}\"\n",
    ")"
   ]
  }
 ],
 "metadata": {
  "kernelspec": {
   "display_name": "Python 3",
   "language": "python",
   "name": "python3"
  },
  "language_info": {
   "codemirror_mode": {
    "name": "ipython",
    "version": 3
   },
   "file_extension": ".py",
   "mimetype": "text/x-python",
   "name": "python",
   "nbconvert_exporter": "python",
   "pygments_lexer": "ipython3",
   "version": "3.10.12"
  }
 },
 "nbformat": 4,
 "nbformat_minor": 5
}
