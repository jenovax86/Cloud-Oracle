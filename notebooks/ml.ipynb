{
 "cells": [
  {
   "cell_type": "markdown",
   "id": "f5d31fe8",
   "metadata": {},
   "source": [
    "# Limitations\n",
    "\n",
    "## Description\n",
    "This model and the machine learning tools used are **flawed** and intended for **research purposes only**.  \n",
    "Predictions from these models may have an error of approximately **3–4%**.  \n",
    "Please be patient while I work on finding the right algorithm and fixing it. :))"
   ]
  },
  {
   "cell_type": "markdown",
   "id": "06fbb87f",
   "metadata": {},
   "source": [
    "# Set up\n"
   ]
  },
  {
   "cell_type": "code",
   "execution_count": 1,
   "id": "2e0b70af",
   "metadata": {},
   "outputs": [],
   "source": [
    "import sys \n",
    "import os\n",
    "notebook_directory = os.getcwd()\n",
    "module_path = os.path.abspath(os.path.join(notebook_directory, \"../models/src/\"))\n",
    "sys.path.append(module_path)\n",
    "from model_training import model_tuning_for_linear_regression, model_tuning_for_random_forest_regressor, model_training_based_on_linear_regression, model_training_based_on_random_forest_regressor"
   ]
  },
  {
   "cell_type": "markdown",
   "id": "3ebe0900",
   "metadata": {},
   "source": [
    "# Hyperparameter Tuning for Your Model\n",
    "We will perform **hyperparameter tuning** for our dataset using the following models:\n",
    "\n",
    "- **Linear Regression**\n",
    "- **Random Forest Regressor**"
   ]
  },
  {
   "cell_type": "code",
   "execution_count": 2,
   "id": "4783ff90",
   "metadata": {},
   "outputs": [
    {
     "name": "stdout",
     "output_type": "stream",
     "text": [
      "(LinearRegression(copy_X=False, n_jobs=15), {'positive': False, 'n_jobs': 15, 'fit_intercept': True, 'copy_X': False})\n",
      "(RandomForestRegressor(max_depth=10, min_samples_split=5, n_estimators=500), {'n_estimators': 500, 'min_samples_split': 5, 'min_samples_leaf': 1, 'max_depth': 10, 'bootstrap': True})\n"
     ]
    }
   ],
   "source": [
    "print(model_tuning_for_linear_regression())\n",
    "print(model_tuning_for_random_forest_regressor())"
   ]
  },
  {
   "cell_type": "markdown",
   "id": "fda6cfbf",
   "metadata": {},
   "source": [
    "# Linear Regression Model for Current Day\n",
    "\n",
    "## Description\n",
    "This model predicts the **low and high temperatures** for the current date (today)."
   ]
  },
  {
   "cell_type": "code",
   "execution_count": 3,
   "id": "d209dde9",
   "metadata": {},
   "outputs": [
    {
     "data": {
      "text/plain": [
       "'low temperature: 19.156725114019807, high temperature: 23.606985883130207'"
      ]
     },
     "execution_count": 3,
     "metadata": {},
     "output_type": "execute_result"
    }
   ],
   "source": [
    "model_training_based_on_linear_regression()"
   ]
  },
  {
   "cell_type": "markdown",
   "id": "0528834f",
   "metadata": {},
   "source": [
    "# Random Forest Regressor Model for Current Day\n",
    "\n",
    "## Description\n",
    "Similar to the Linear Regression model, this model predicts the **low and high temperatures** for the current day."
   ]
  },
  {
   "cell_type": "code",
   "execution_count": 4,
   "id": "82fa2ac8",
   "metadata": {},
   "outputs": [
    {
     "data": {
      "text/plain": [
       "'low temperature: 16.400467587448656, high temperature: 20.571017023655454'"
      ]
     },
     "execution_count": 4,
     "metadata": {},
     "output_type": "execute_result"
    }
   ],
   "source": [
    "model_training_based_on_random_forest_regressor()"
   ]
  }
 ],
 "metadata": {
  "kernelspec": {
   "display_name": "Python 3",
   "language": "python",
   "name": "python3"
  },
  "language_info": {
   "codemirror_mode": {
    "name": "ipython",
    "version": 3
   },
   "file_extension": ".py",
   "mimetype": "text/x-python",
   "name": "python",
   "nbconvert_exporter": "python",
   "pygments_lexer": "ipython3",
   "version": "3.10.12"
  }
 },
 "nbformat": 4,
 "nbformat_minor": 5
}
